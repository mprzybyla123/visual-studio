{
 "cells": [
  {
   "cell_type": "code",
   "execution_count": 1,
   "metadata": {},
   "outputs": [],
   "source": [
    "from example.introduction_class import IntroductionClass\n",
    "from example.read_df import testClass\n",
    "import pandas as pd\n",
    "import datetime as dt"
   ]
  },
  {
   "cell_type": "code",
   "execution_count": 2,
   "metadata": {},
   "outputs": [
    {
     "output_type": "stream",
     "name": "stdout",
     "text": "<class 'example.introduction_class.IntroductionClass'>\n<class 'example.read_df.testClass'>\n"
    }
   ],
   "source": [
    "print(IntroductionClass)\n",
    "print(testClass)"
   ]
  },
  {
   "cell_type": "code",
   "execution_count": 3,
   "metadata": {},
   "outputs": [
    {
     "output_type": "execute_result",
     "data": {
      "text/plain": "  Year Month  Confirmed_Test  Confirmed_New  Confirmed_Recovery       Date\n0   Jan 2020     2500.901056    2683.795294         2801.509978 2020-01-01\n1   Feb 2020     2331.820483    2266.819748         2431.251209 2020-02-01\n2   Mar 2020     2674.416574    2423.780967         2905.532200 2020-03-01",
      "text/html": "<div>\n<style>\n    .dataframe thead tr:only-child th {\n        text-align: right;\n    }\n\n    .dataframe thead th {\n        text-align: left;\n    }\n\n    .dataframe tbody tr th {\n        vertical-align: top;\n    }\n</style>\n<table border=\"1\" class=\"dataframe\">\n  <thead>\n    <tr style=\"text-align: right;\">\n      <th></th>\n      <th>Year Month</th>\n      <th>Confirmed_Test</th>\n      <th>Confirmed_New</th>\n      <th>Confirmed_Recovery</th>\n      <th>Date</th>\n    </tr>\n  </thead>\n  <tbody>\n    <tr>\n      <th>0</th>\n      <td>Jan 2020</td>\n      <td>2500.901056</td>\n      <td>2683.795294</td>\n      <td>2801.509978</td>\n      <td>2020-01-01</td>\n    </tr>\n    <tr>\n      <th>1</th>\n      <td>Feb 2020</td>\n      <td>2331.820483</td>\n      <td>2266.819748</td>\n      <td>2431.251209</td>\n      <td>2020-02-01</td>\n    </tr>\n    <tr>\n      <th>2</th>\n      <td>Mar 2020</td>\n      <td>2674.416574</td>\n      <td>2423.780967</td>\n      <td>2905.532200</td>\n      <td>2020-03-01</td>\n    </tr>\n  </tbody>\n</table>\n</div>"
     },
     "metadata": {},
     "execution_count": 3
    }
   ],
   "source": [
    "testClass.read_data(IntroductionClass)"
   ]
  },
  {
   "cell_type": "code",
   "execution_count": 4,
   "metadata": {},
   "outputs": [
    {
     "output_type": "execute_result",
     "data": {
      "text/plain": "count       3.000000\nmean     2712.764462\nstd       249.283853\nmin      2431.251209\n25%      2616.380594\n50%      2801.509978\n75%      2853.521089\nmax      2905.532200\nName: Confirmed_Recovery, dtype: float64"
     },
     "metadata": {},
     "execution_count": 4
    }
   ],
   "source": [
    "jupyter_df = testClass.read_data(IntroductionClass)\n",
    "jupyter_df['Confirmed_Recovery'].describe()"
   ]
  }
 ],
 "metadata": {
  "kernelspec": {
   "display_name": "Python 3",
   "language": "python",
   "name": "python3"
  },
  "language_info": {
   "codemirror_mode": {
    "name": "ipython",
    "version": 3
   },
   "file_extension": ".py",
   "mimetype": "text/x-python",
   "name": "python",
   "nbconvert_exporter": "python",
   "pygments_lexer": "ipython3",
   "version": "3.7.6-final"
  }
 },
 "nbformat": 4,
 "nbformat_minor": 4
}